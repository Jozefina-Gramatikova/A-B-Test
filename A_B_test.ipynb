{
  "nbformat": 4,
  "nbformat_minor": 0,
  "metadata": {
    "colab": {
      "name": "A_B_test.ipynb",
      "provenance": [],
      "collapsed_sections": [],
      "mount_file_id": "1orptaLs-RDsb6WmhcpuLd0NY3H6vienZ",
      "authorship_tag": "ABX9TyPj+CwBNYVwuY5IB+YPnKy8",
      "include_colab_link": true
    },
    "kernelspec": {
      "name": "python3",
      "display_name": "Python 3"
    },
    "language_info": {
      "name": "python"
    }
  },
  "cells": [
    {
      "cell_type": "markdown",
      "metadata": {
        "id": "view-in-github",
        "colab_type": "text"
      },
      "source": [
        "<a href=\"https://colab.research.google.com/github/Jozefina-Gramatikova/A-B-Test/blob/main/A_B_test.ipynb\" target=\"_parent\"><img src=\"https://colab.research.google.com/assets/colab-badge.svg\" alt=\"Open In Colab\"/></a>"
      ]
    },
    {
      "cell_type": "code",
      "source": [
        "from google.colab import drive\n",
        "drive.mount('/content/drive')"
      ],
      "metadata": {
        "colab": {
          "base_uri": "https://localhost:8080/"
        },
        "id": "opP9MN0v50K6",
        "outputId": "c4783df0-875e-42e7-c794-661e5c072118"
      },
      "execution_count": null,
      "outputs": [
        {
          "output_type": "stream",
          "name": "stdout",
          "text": [
            "Drive already mounted at /content/drive; to attempt to forcibly remount, call drive.mount(\"/content/drive\", force_remount=True).\n"
          ]
        }
      ]
    },
    {
      "cell_type": "code",
      "source": [
        "import pandas as pd\n",
        "import numpy as np\n",
        "import seaborn as sns                       #visualisation\n",
        "import matplotlib.pyplot as plt             #visualisation\n",
        "%matplotlib inline     \n",
        "sns.set(color_codes=True)\n",
        "from matplotlib.cbook import boxplot_stats  \n",
        "from sklearn.ensemble import IsolationForest\n",
        "from scipy import stats"
      ],
      "metadata": {
        "id": "HsHjGAOabINU"
      },
      "execution_count": 174,
      "outputs": []
    },
    {
      "cell_type": "code",
      "source": [
        "df=pd.read_csv('/content/drive/MyDrive/exercise3_ab_test.csv') #importing the excel file file"
      ],
      "metadata": {
        "id": "dHt7ebWd6d52"
      },
      "execution_count": null,
      "outputs": []
    },
    {
      "cell_type": "code",
      "source": [
        "df.head(5) #making sure that it has been imported by printing the first 5 rows"
      ],
      "metadata": {
        "colab": {
          "base_uri": "https://localhost:8080/",
          "height": 206
        },
        "id": "AR94lSwz6jK9",
        "outputId": "e4f45aac-0df1-43a5-a3e3-f5ba456a298a"
      },
      "execution_count": null,
      "outputs": [
        {
          "output_type": "execute_result",
          "data": {
            "text/plain": [
              "   user_id  Variant  Revenue\n",
              "0   562625  Control    43.34\n",
              "1   935989     Test    51.05\n",
              "2   676822     Test    61.13\n",
              "3   933683     Test    45.85\n",
              "4   967127     Test    48.10"
            ],
            "text/html": [
              "\n",
              "  <div id=\"df-d5b6ca86-f27e-4d83-9285-2608f6073c8b\">\n",
              "    <div class=\"colab-df-container\">\n",
              "      <div>\n",
              "<style scoped>\n",
              "    .dataframe tbody tr th:only-of-type {\n",
              "        vertical-align: middle;\n",
              "    }\n",
              "\n",
              "    .dataframe tbody tr th {\n",
              "        vertical-align: top;\n",
              "    }\n",
              "\n",
              "    .dataframe thead th {\n",
              "        text-align: right;\n",
              "    }\n",
              "</style>\n",
              "<table border=\"1\" class=\"dataframe\">\n",
              "  <thead>\n",
              "    <tr style=\"text-align: right;\">\n",
              "      <th></th>\n",
              "      <th>user_id</th>\n",
              "      <th>Variant</th>\n",
              "      <th>Revenue</th>\n",
              "    </tr>\n",
              "  </thead>\n",
              "  <tbody>\n",
              "    <tr>\n",
              "      <th>0</th>\n",
              "      <td>562625</td>\n",
              "      <td>Control</td>\n",
              "      <td>43.34</td>\n",
              "    </tr>\n",
              "    <tr>\n",
              "      <th>1</th>\n",
              "      <td>935989</td>\n",
              "      <td>Test</td>\n",
              "      <td>51.05</td>\n",
              "    </tr>\n",
              "    <tr>\n",
              "      <th>2</th>\n",
              "      <td>676822</td>\n",
              "      <td>Test</td>\n",
              "      <td>61.13</td>\n",
              "    </tr>\n",
              "    <tr>\n",
              "      <th>3</th>\n",
              "      <td>933683</td>\n",
              "      <td>Test</td>\n",
              "      <td>45.85</td>\n",
              "    </tr>\n",
              "    <tr>\n",
              "      <th>4</th>\n",
              "      <td>967127</td>\n",
              "      <td>Test</td>\n",
              "      <td>48.10</td>\n",
              "    </tr>\n",
              "  </tbody>\n",
              "</table>\n",
              "</div>\n",
              "      <button class=\"colab-df-convert\" onclick=\"convertToInteractive('df-d5b6ca86-f27e-4d83-9285-2608f6073c8b')\"\n",
              "              title=\"Convert this dataframe to an interactive table.\"\n",
              "              style=\"display:none;\">\n",
              "        \n",
              "  <svg xmlns=\"http://www.w3.org/2000/svg\" height=\"24px\"viewBox=\"0 0 24 24\"\n",
              "       width=\"24px\">\n",
              "    <path d=\"M0 0h24v24H0V0z\" fill=\"none\"/>\n",
              "    <path d=\"M18.56 5.44l.94 2.06.94-2.06 2.06-.94-2.06-.94-.94-2.06-.94 2.06-2.06.94zm-11 1L8.5 8.5l.94-2.06 2.06-.94-2.06-.94L8.5 2.5l-.94 2.06-2.06.94zm10 10l.94 2.06.94-2.06 2.06-.94-2.06-.94-.94-2.06-.94 2.06-2.06.94z\"/><path d=\"M17.41 7.96l-1.37-1.37c-.4-.4-.92-.59-1.43-.59-.52 0-1.04.2-1.43.59L10.3 9.45l-7.72 7.72c-.78.78-.78 2.05 0 2.83L4 21.41c.39.39.9.59 1.41.59.51 0 1.02-.2 1.41-.59l7.78-7.78 2.81-2.81c.8-.78.8-2.07 0-2.86zM5.41 20L4 18.59l7.72-7.72 1.47 1.35L5.41 20z\"/>\n",
              "  </svg>\n",
              "      </button>\n",
              "      \n",
              "  <style>\n",
              "    .colab-df-container {\n",
              "      display:flex;\n",
              "      flex-wrap:wrap;\n",
              "      gap: 12px;\n",
              "    }\n",
              "\n",
              "    .colab-df-convert {\n",
              "      background-color: #E8F0FE;\n",
              "      border: none;\n",
              "      border-radius: 50%;\n",
              "      cursor: pointer;\n",
              "      display: none;\n",
              "      fill: #1967D2;\n",
              "      height: 32px;\n",
              "      padding: 0 0 0 0;\n",
              "      width: 32px;\n",
              "    }\n",
              "\n",
              "    .colab-df-convert:hover {\n",
              "      background-color: #E2EBFA;\n",
              "      box-shadow: 0px 1px 2px rgba(60, 64, 67, 0.3), 0px 1px 3px 1px rgba(60, 64, 67, 0.15);\n",
              "      fill: #174EA6;\n",
              "    }\n",
              "\n",
              "    [theme=dark] .colab-df-convert {\n",
              "      background-color: #3B4455;\n",
              "      fill: #D2E3FC;\n",
              "    }\n",
              "\n",
              "    [theme=dark] .colab-df-convert:hover {\n",
              "      background-color: #434B5C;\n",
              "      box-shadow: 0px 1px 3px 1px rgba(0, 0, 0, 0.15);\n",
              "      filter: drop-shadow(0px 1px 2px rgba(0, 0, 0, 0.3));\n",
              "      fill: #FFFFFF;\n",
              "    }\n",
              "  </style>\n",
              "\n",
              "      <script>\n",
              "        const buttonEl =\n",
              "          document.querySelector('#df-d5b6ca86-f27e-4d83-9285-2608f6073c8b button.colab-df-convert');\n",
              "        buttonEl.style.display =\n",
              "          google.colab.kernel.accessAllowed ? 'block' : 'none';\n",
              "\n",
              "        async function convertToInteractive(key) {\n",
              "          const element = document.querySelector('#df-d5b6ca86-f27e-4d83-9285-2608f6073c8b');\n",
              "          const dataTable =\n",
              "            await google.colab.kernel.invokeFunction('convertToInteractive',\n",
              "                                                     [key], {});\n",
              "          if (!dataTable) return;\n",
              "\n",
              "          const docLinkHtml = 'Like what you see? Visit the ' +\n",
              "            '<a target=\"_blank\" href=https://colab.research.google.com/notebooks/data_table.ipynb>data table notebook</a>'\n",
              "            + ' to learn more about interactive tables.';\n",
              "          element.innerHTML = '';\n",
              "          dataTable['output_type'] = 'display_data';\n",
              "          await google.colab.output.renderOutput(dataTable, element);\n",
              "          const docLink = document.createElement('div');\n",
              "          docLink.innerHTML = docLinkHtml;\n",
              "          element.appendChild(docLink);\n",
              "        }\n",
              "      </script>\n",
              "    </div>\n",
              "  </div>\n",
              "  "
            ]
          },
          "metadata": {},
          "execution_count": 113
        }
      ]
    },
    {
      "cell_type": "markdown",
      "source": [
        "Exploratory Data Anlysis"
      ],
      "metadata": {
        "id": "T_QG_2-qP4ht"
      }
    },
    {
      "cell_type": "code",
      "source": [
        "df.describe() #checking the most important statistics of both \"Control\" and \"Test\" together"
      ],
      "metadata": {
        "colab": {
          "base_uri": "https://localhost:8080/",
          "height": 300
        },
        "id": "IUH_2xTP6puS",
        "outputId": "c0d53c3e-baf7-43ad-f044-31821d45d644"
      },
      "execution_count": null,
      "outputs": [
        {
          "output_type": "execute_result",
          "data": {
            "text/plain": [
              "             user_id       Revenue\n",
              "count   19561.000000  19561.000000\n",
              "mean   549669.679004     52.662342\n",
              "std    259109.419075     16.813468\n",
              "min    100016.000000     20.220000\n",
              "25%    327861.000000     46.210000\n",
              "50%    548916.000000     50.920000\n",
              "75%    773791.000000     56.990000\n",
              "max    999950.000000    951.030000"
            ],
            "text/html": [
              "\n",
              "  <div id=\"df-10af8886-e8a5-4d3e-bbae-4e17ca698516\">\n",
              "    <div class=\"colab-df-container\">\n",
              "      <div>\n",
              "<style scoped>\n",
              "    .dataframe tbody tr th:only-of-type {\n",
              "        vertical-align: middle;\n",
              "    }\n",
              "\n",
              "    .dataframe tbody tr th {\n",
              "        vertical-align: top;\n",
              "    }\n",
              "\n",
              "    .dataframe thead th {\n",
              "        text-align: right;\n",
              "    }\n",
              "</style>\n",
              "<table border=\"1\" class=\"dataframe\">\n",
              "  <thead>\n",
              "    <tr style=\"text-align: right;\">\n",
              "      <th></th>\n",
              "      <th>user_id</th>\n",
              "      <th>Revenue</th>\n",
              "    </tr>\n",
              "  </thead>\n",
              "  <tbody>\n",
              "    <tr>\n",
              "      <th>count</th>\n",
              "      <td>19561.000000</td>\n",
              "      <td>19561.000000</td>\n",
              "    </tr>\n",
              "    <tr>\n",
              "      <th>mean</th>\n",
              "      <td>549669.679004</td>\n",
              "      <td>52.662342</td>\n",
              "    </tr>\n",
              "    <tr>\n",
              "      <th>std</th>\n",
              "      <td>259109.419075</td>\n",
              "      <td>16.813468</td>\n",
              "    </tr>\n",
              "    <tr>\n",
              "      <th>min</th>\n",
              "      <td>100016.000000</td>\n",
              "      <td>20.220000</td>\n",
              "    </tr>\n",
              "    <tr>\n",
              "      <th>25%</th>\n",
              "      <td>327861.000000</td>\n",
              "      <td>46.210000</td>\n",
              "    </tr>\n",
              "    <tr>\n",
              "      <th>50%</th>\n",
              "      <td>548916.000000</td>\n",
              "      <td>50.920000</td>\n",
              "    </tr>\n",
              "    <tr>\n",
              "      <th>75%</th>\n",
              "      <td>773791.000000</td>\n",
              "      <td>56.990000</td>\n",
              "    </tr>\n",
              "    <tr>\n",
              "      <th>max</th>\n",
              "      <td>999950.000000</td>\n",
              "      <td>951.030000</td>\n",
              "    </tr>\n",
              "  </tbody>\n",
              "</table>\n",
              "</div>\n",
              "      <button class=\"colab-df-convert\" onclick=\"convertToInteractive('df-10af8886-e8a5-4d3e-bbae-4e17ca698516')\"\n",
              "              title=\"Convert this dataframe to an interactive table.\"\n",
              "              style=\"display:none;\">\n",
              "        \n",
              "  <svg xmlns=\"http://www.w3.org/2000/svg\" height=\"24px\"viewBox=\"0 0 24 24\"\n",
              "       width=\"24px\">\n",
              "    <path d=\"M0 0h24v24H0V0z\" fill=\"none\"/>\n",
              "    <path d=\"M18.56 5.44l.94 2.06.94-2.06 2.06-.94-2.06-.94-.94-2.06-.94 2.06-2.06.94zm-11 1L8.5 8.5l.94-2.06 2.06-.94-2.06-.94L8.5 2.5l-.94 2.06-2.06.94zm10 10l.94 2.06.94-2.06 2.06-.94-2.06-.94-.94-2.06-.94 2.06-2.06.94z\"/><path d=\"M17.41 7.96l-1.37-1.37c-.4-.4-.92-.59-1.43-.59-.52 0-1.04.2-1.43.59L10.3 9.45l-7.72 7.72c-.78.78-.78 2.05 0 2.83L4 21.41c.39.39.9.59 1.41.59.51 0 1.02-.2 1.41-.59l7.78-7.78 2.81-2.81c.8-.78.8-2.07 0-2.86zM5.41 20L4 18.59l7.72-7.72 1.47 1.35L5.41 20z\"/>\n",
              "  </svg>\n",
              "      </button>\n",
              "      \n",
              "  <style>\n",
              "    .colab-df-container {\n",
              "      display:flex;\n",
              "      flex-wrap:wrap;\n",
              "      gap: 12px;\n",
              "    }\n",
              "\n",
              "    .colab-df-convert {\n",
              "      background-color: #E8F0FE;\n",
              "      border: none;\n",
              "      border-radius: 50%;\n",
              "      cursor: pointer;\n",
              "      display: none;\n",
              "      fill: #1967D2;\n",
              "      height: 32px;\n",
              "      padding: 0 0 0 0;\n",
              "      width: 32px;\n",
              "    }\n",
              "\n",
              "    .colab-df-convert:hover {\n",
              "      background-color: #E2EBFA;\n",
              "      box-shadow: 0px 1px 2px rgba(60, 64, 67, 0.3), 0px 1px 3px 1px rgba(60, 64, 67, 0.15);\n",
              "      fill: #174EA6;\n",
              "    }\n",
              "\n",
              "    [theme=dark] .colab-df-convert {\n",
              "      background-color: #3B4455;\n",
              "      fill: #D2E3FC;\n",
              "    }\n",
              "\n",
              "    [theme=dark] .colab-df-convert:hover {\n",
              "      background-color: #434B5C;\n",
              "      box-shadow: 0px 1px 3px 1px rgba(0, 0, 0, 0.15);\n",
              "      filter: drop-shadow(0px 1px 2px rgba(0, 0, 0, 0.3));\n",
              "      fill: #FFFFFF;\n",
              "    }\n",
              "  </style>\n",
              "\n",
              "      <script>\n",
              "        const buttonEl =\n",
              "          document.querySelector('#df-10af8886-e8a5-4d3e-bbae-4e17ca698516 button.colab-df-convert');\n",
              "        buttonEl.style.display =\n",
              "          google.colab.kernel.accessAllowed ? 'block' : 'none';\n",
              "\n",
              "        async function convertToInteractive(key) {\n",
              "          const element = document.querySelector('#df-10af8886-e8a5-4d3e-bbae-4e17ca698516');\n",
              "          const dataTable =\n",
              "            await google.colab.kernel.invokeFunction('convertToInteractive',\n",
              "                                                     [key], {});\n",
              "          if (!dataTable) return;\n",
              "\n",
              "          const docLinkHtml = 'Like what you see? Visit the ' +\n",
              "            '<a target=\"_blank\" href=https://colab.research.google.com/notebooks/data_table.ipynb>data table notebook</a>'\n",
              "            + ' to learn more about interactive tables.';\n",
              "          element.innerHTML = '';\n",
              "          dataTable['output_type'] = 'display_data';\n",
              "          await google.colab.output.renderOutput(dataTable, element);\n",
              "          const docLink = document.createElement('div');\n",
              "          docLink.innerHTML = docLinkHtml;\n",
              "          element.appendChild(docLink);\n",
              "        }\n",
              "      </script>\n",
              "    </div>\n",
              "  </div>\n",
              "  "
            ]
          },
          "metadata": {},
          "execution_count": 114
        }
      ]
    },
    {
      "cell_type": "code",
      "source": [
        "df[df['Variant']=='Test'].describe() #checking the stats of \"Test\""
      ],
      "metadata": {
        "colab": {
          "base_uri": "https://localhost:8080/",
          "height": 300
        },
        "id": "jmgo8v2C7FMg",
        "outputId": "e17c5515-c80c-4064-8d94-78285d828f6c"
      },
      "execution_count": null,
      "outputs": [
        {
          "output_type": "execute_result",
          "data": {
            "text/plain": [
              "             user_id      Revenue\n",
              "count    9547.000000  9547.000000\n",
              "mean   548249.460773    52.406548\n",
              "std    258377.210094     6.896169\n",
              "min    100097.000000    35.700000\n",
              "25%    330206.500000    47.260000\n",
              "50%    545079.000000    51.370000\n",
              "75%    770068.000000    56.480000\n",
              "max    999950.000000    86.380000"
            ],
            "text/html": [
              "\n",
              "  <div id=\"df-63f9dfbe-8752-4dee-8784-e2c8dd30284d\">\n",
              "    <div class=\"colab-df-container\">\n",
              "      <div>\n",
              "<style scoped>\n",
              "    .dataframe tbody tr th:only-of-type {\n",
              "        vertical-align: middle;\n",
              "    }\n",
              "\n",
              "    .dataframe tbody tr th {\n",
              "        vertical-align: top;\n",
              "    }\n",
              "\n",
              "    .dataframe thead th {\n",
              "        text-align: right;\n",
              "    }\n",
              "</style>\n",
              "<table border=\"1\" class=\"dataframe\">\n",
              "  <thead>\n",
              "    <tr style=\"text-align: right;\">\n",
              "      <th></th>\n",
              "      <th>user_id</th>\n",
              "      <th>Revenue</th>\n",
              "    </tr>\n",
              "  </thead>\n",
              "  <tbody>\n",
              "    <tr>\n",
              "      <th>count</th>\n",
              "      <td>9547.000000</td>\n",
              "      <td>9547.000000</td>\n",
              "    </tr>\n",
              "    <tr>\n",
              "      <th>mean</th>\n",
              "      <td>548249.460773</td>\n",
              "      <td>52.406548</td>\n",
              "    </tr>\n",
              "    <tr>\n",
              "      <th>std</th>\n",
              "      <td>258377.210094</td>\n",
              "      <td>6.896169</td>\n",
              "    </tr>\n",
              "    <tr>\n",
              "      <th>min</th>\n",
              "      <td>100097.000000</td>\n",
              "      <td>35.700000</td>\n",
              "    </tr>\n",
              "    <tr>\n",
              "      <th>25%</th>\n",
              "      <td>330206.500000</td>\n",
              "      <td>47.260000</td>\n",
              "    </tr>\n",
              "    <tr>\n",
              "      <th>50%</th>\n",
              "      <td>545079.000000</td>\n",
              "      <td>51.370000</td>\n",
              "    </tr>\n",
              "    <tr>\n",
              "      <th>75%</th>\n",
              "      <td>770068.000000</td>\n",
              "      <td>56.480000</td>\n",
              "    </tr>\n",
              "    <tr>\n",
              "      <th>max</th>\n",
              "      <td>999950.000000</td>\n",
              "      <td>86.380000</td>\n",
              "    </tr>\n",
              "  </tbody>\n",
              "</table>\n",
              "</div>\n",
              "      <button class=\"colab-df-convert\" onclick=\"convertToInteractive('df-63f9dfbe-8752-4dee-8784-e2c8dd30284d')\"\n",
              "              title=\"Convert this dataframe to an interactive table.\"\n",
              "              style=\"display:none;\">\n",
              "        \n",
              "  <svg xmlns=\"http://www.w3.org/2000/svg\" height=\"24px\"viewBox=\"0 0 24 24\"\n",
              "       width=\"24px\">\n",
              "    <path d=\"M0 0h24v24H0V0z\" fill=\"none\"/>\n",
              "    <path d=\"M18.56 5.44l.94 2.06.94-2.06 2.06-.94-2.06-.94-.94-2.06-.94 2.06-2.06.94zm-11 1L8.5 8.5l.94-2.06 2.06-.94-2.06-.94L8.5 2.5l-.94 2.06-2.06.94zm10 10l.94 2.06.94-2.06 2.06-.94-2.06-.94-.94-2.06-.94 2.06-2.06.94z\"/><path d=\"M17.41 7.96l-1.37-1.37c-.4-.4-.92-.59-1.43-.59-.52 0-1.04.2-1.43.59L10.3 9.45l-7.72 7.72c-.78.78-.78 2.05 0 2.83L4 21.41c.39.39.9.59 1.41.59.51 0 1.02-.2 1.41-.59l7.78-7.78 2.81-2.81c.8-.78.8-2.07 0-2.86zM5.41 20L4 18.59l7.72-7.72 1.47 1.35L5.41 20z\"/>\n",
              "  </svg>\n",
              "      </button>\n",
              "      \n",
              "  <style>\n",
              "    .colab-df-container {\n",
              "      display:flex;\n",
              "      flex-wrap:wrap;\n",
              "      gap: 12px;\n",
              "    }\n",
              "\n",
              "    .colab-df-convert {\n",
              "      background-color: #E8F0FE;\n",
              "      border: none;\n",
              "      border-radius: 50%;\n",
              "      cursor: pointer;\n",
              "      display: none;\n",
              "      fill: #1967D2;\n",
              "      height: 32px;\n",
              "      padding: 0 0 0 0;\n",
              "      width: 32px;\n",
              "    }\n",
              "\n",
              "    .colab-df-convert:hover {\n",
              "      background-color: #E2EBFA;\n",
              "      box-shadow: 0px 1px 2px rgba(60, 64, 67, 0.3), 0px 1px 3px 1px rgba(60, 64, 67, 0.15);\n",
              "      fill: #174EA6;\n",
              "    }\n",
              "\n",
              "    [theme=dark] .colab-df-convert {\n",
              "      background-color: #3B4455;\n",
              "      fill: #D2E3FC;\n",
              "    }\n",
              "\n",
              "    [theme=dark] .colab-df-convert:hover {\n",
              "      background-color: #434B5C;\n",
              "      box-shadow: 0px 1px 3px 1px rgba(0, 0, 0, 0.15);\n",
              "      filter: drop-shadow(0px 1px 2px rgba(0, 0, 0, 0.3));\n",
              "      fill: #FFFFFF;\n",
              "    }\n",
              "  </style>\n",
              "\n",
              "      <script>\n",
              "        const buttonEl =\n",
              "          document.querySelector('#df-63f9dfbe-8752-4dee-8784-e2c8dd30284d button.colab-df-convert');\n",
              "        buttonEl.style.display =\n",
              "          google.colab.kernel.accessAllowed ? 'block' : 'none';\n",
              "\n",
              "        async function convertToInteractive(key) {\n",
              "          const element = document.querySelector('#df-63f9dfbe-8752-4dee-8784-e2c8dd30284d');\n",
              "          const dataTable =\n",
              "            await google.colab.kernel.invokeFunction('convertToInteractive',\n",
              "                                                     [key], {});\n",
              "          if (!dataTable) return;\n",
              "\n",
              "          const docLinkHtml = 'Like what you see? Visit the ' +\n",
              "            '<a target=\"_blank\" href=https://colab.research.google.com/notebooks/data_table.ipynb>data table notebook</a>'\n",
              "            + ' to learn more about interactive tables.';\n",
              "          element.innerHTML = '';\n",
              "          dataTable['output_type'] = 'display_data';\n",
              "          await google.colab.output.renderOutput(dataTable, element);\n",
              "          const docLink = document.createElement('div');\n",
              "          docLink.innerHTML = docLinkHtml;\n",
              "          element.appendChild(docLink);\n",
              "        }\n",
              "      </script>\n",
              "    </div>\n",
              "  </div>\n",
              "  "
            ]
          },
          "metadata": {},
          "execution_count": 115
        }
      ]
    },
    {
      "cell_type": "markdown",
      "source": [
        ""
      ],
      "metadata": {
        "id": "cGvKto2OkyPU"
      }
    },
    {
      "cell_type": "code",
      "source": [
        "df[df['Variant']=='Control'].describe() #checking the stats for \"Control\""
      ],
      "metadata": {
        "colab": {
          "base_uri": "https://localhost:8080/",
          "height": 300
        },
        "id": "7xFaffjA7iYb",
        "outputId": "dd7d5c99-7096-46d8-a79d-ce402e5dfd1a"
      },
      "execution_count": null,
      "outputs": [
        {
          "output_type": "execute_result",
          "data": {
            "text/plain": [
              "             user_id       Revenue\n",
              "count   10014.000000  10014.000000\n",
              "mean   551023.665768     52.906208\n",
              "std    259811.231099     22.511509\n",
              "min    100016.000000     20.220000\n",
              "25%    325779.500000     44.900000\n",
              "50%    553296.500000     50.290000\n",
              "75%    776331.250000     57.665000\n",
              "max    999949.000000    951.030000"
            ],
            "text/html": [
              "\n",
              "  <div id=\"df-8eff986f-2c86-4fed-8ca3-e01b89d508ff\">\n",
              "    <div class=\"colab-df-container\">\n",
              "      <div>\n",
              "<style scoped>\n",
              "    .dataframe tbody tr th:only-of-type {\n",
              "        vertical-align: middle;\n",
              "    }\n",
              "\n",
              "    .dataframe tbody tr th {\n",
              "        vertical-align: top;\n",
              "    }\n",
              "\n",
              "    .dataframe thead th {\n",
              "        text-align: right;\n",
              "    }\n",
              "</style>\n",
              "<table border=\"1\" class=\"dataframe\">\n",
              "  <thead>\n",
              "    <tr style=\"text-align: right;\">\n",
              "      <th></th>\n",
              "      <th>user_id</th>\n",
              "      <th>Revenue</th>\n",
              "    </tr>\n",
              "  </thead>\n",
              "  <tbody>\n",
              "    <tr>\n",
              "      <th>count</th>\n",
              "      <td>10014.000000</td>\n",
              "      <td>10014.000000</td>\n",
              "    </tr>\n",
              "    <tr>\n",
              "      <th>mean</th>\n",
              "      <td>551023.665768</td>\n",
              "      <td>52.906208</td>\n",
              "    </tr>\n",
              "    <tr>\n",
              "      <th>std</th>\n",
              "      <td>259811.231099</td>\n",
              "      <td>22.511509</td>\n",
              "    </tr>\n",
              "    <tr>\n",
              "      <th>min</th>\n",
              "      <td>100016.000000</td>\n",
              "      <td>20.220000</td>\n",
              "    </tr>\n",
              "    <tr>\n",
              "      <th>25%</th>\n",
              "      <td>325779.500000</td>\n",
              "      <td>44.900000</td>\n",
              "    </tr>\n",
              "    <tr>\n",
              "      <th>50%</th>\n",
              "      <td>553296.500000</td>\n",
              "      <td>50.290000</td>\n",
              "    </tr>\n",
              "    <tr>\n",
              "      <th>75%</th>\n",
              "      <td>776331.250000</td>\n",
              "      <td>57.665000</td>\n",
              "    </tr>\n",
              "    <tr>\n",
              "      <th>max</th>\n",
              "      <td>999949.000000</td>\n",
              "      <td>951.030000</td>\n",
              "    </tr>\n",
              "  </tbody>\n",
              "</table>\n",
              "</div>\n",
              "      <button class=\"colab-df-convert\" onclick=\"convertToInteractive('df-8eff986f-2c86-4fed-8ca3-e01b89d508ff')\"\n",
              "              title=\"Convert this dataframe to an interactive table.\"\n",
              "              style=\"display:none;\">\n",
              "        \n",
              "  <svg xmlns=\"http://www.w3.org/2000/svg\" height=\"24px\"viewBox=\"0 0 24 24\"\n",
              "       width=\"24px\">\n",
              "    <path d=\"M0 0h24v24H0V0z\" fill=\"none\"/>\n",
              "    <path d=\"M18.56 5.44l.94 2.06.94-2.06 2.06-.94-2.06-.94-.94-2.06-.94 2.06-2.06.94zm-11 1L8.5 8.5l.94-2.06 2.06-.94-2.06-.94L8.5 2.5l-.94 2.06-2.06.94zm10 10l.94 2.06.94-2.06 2.06-.94-2.06-.94-.94-2.06-.94 2.06-2.06.94z\"/><path d=\"M17.41 7.96l-1.37-1.37c-.4-.4-.92-.59-1.43-.59-.52 0-1.04.2-1.43.59L10.3 9.45l-7.72 7.72c-.78.78-.78 2.05 0 2.83L4 21.41c.39.39.9.59 1.41.59.51 0 1.02-.2 1.41-.59l7.78-7.78 2.81-2.81c.8-.78.8-2.07 0-2.86zM5.41 20L4 18.59l7.72-7.72 1.47 1.35L5.41 20z\"/>\n",
              "  </svg>\n",
              "      </button>\n",
              "      \n",
              "  <style>\n",
              "    .colab-df-container {\n",
              "      display:flex;\n",
              "      flex-wrap:wrap;\n",
              "      gap: 12px;\n",
              "    }\n",
              "\n",
              "    .colab-df-convert {\n",
              "      background-color: #E8F0FE;\n",
              "      border: none;\n",
              "      border-radius: 50%;\n",
              "      cursor: pointer;\n",
              "      display: none;\n",
              "      fill: #1967D2;\n",
              "      height: 32px;\n",
              "      padding: 0 0 0 0;\n",
              "      width: 32px;\n",
              "    }\n",
              "\n",
              "    .colab-df-convert:hover {\n",
              "      background-color: #E2EBFA;\n",
              "      box-shadow: 0px 1px 2px rgba(60, 64, 67, 0.3), 0px 1px 3px 1px rgba(60, 64, 67, 0.15);\n",
              "      fill: #174EA6;\n",
              "    }\n",
              "\n",
              "    [theme=dark] .colab-df-convert {\n",
              "      background-color: #3B4455;\n",
              "      fill: #D2E3FC;\n",
              "    }\n",
              "\n",
              "    [theme=dark] .colab-df-convert:hover {\n",
              "      background-color: #434B5C;\n",
              "      box-shadow: 0px 1px 3px 1px rgba(0, 0, 0, 0.15);\n",
              "      filter: drop-shadow(0px 1px 2px rgba(0, 0, 0, 0.3));\n",
              "      fill: #FFFFFF;\n",
              "    }\n",
              "  </style>\n",
              "\n",
              "      <script>\n",
              "        const buttonEl =\n",
              "          document.querySelector('#df-8eff986f-2c86-4fed-8ca3-e01b89d508ff button.colab-df-convert');\n",
              "        buttonEl.style.display =\n",
              "          google.colab.kernel.accessAllowed ? 'block' : 'none';\n",
              "\n",
              "        async function convertToInteractive(key) {\n",
              "          const element = document.querySelector('#df-8eff986f-2c86-4fed-8ca3-e01b89d508ff');\n",
              "          const dataTable =\n",
              "            await google.colab.kernel.invokeFunction('convertToInteractive',\n",
              "                                                     [key], {});\n",
              "          if (!dataTable) return;\n",
              "\n",
              "          const docLinkHtml = 'Like what you see? Visit the ' +\n",
              "            '<a target=\"_blank\" href=https://colab.research.google.com/notebooks/data_table.ipynb>data table notebook</a>'\n",
              "            + ' to learn more about interactive tables.';\n",
              "          element.innerHTML = '';\n",
              "          dataTable['output_type'] = 'display_data';\n",
              "          await google.colab.output.renderOutput(dataTable, element);\n",
              "          const docLink = document.createElement('div');\n",
              "          docLink.innerHTML = docLinkHtml;\n",
              "          element.appendChild(docLink);\n",
              "        }\n",
              "      </script>\n",
              "    </div>\n",
              "  </div>\n",
              "  "
            ]
          },
          "metadata": {},
          "execution_count": 116
        }
      ]
    },
    {
      "cell_type": "markdown",
      "source": [
        "Now \"Control\" and \"Test\" grops can be compared. One can see that the minumum value of \"Test\"  -- 35.7 is close to the minumimum value of \"Control\" which is 20.22. The standard devition, however if much larger in the \"Control\" group, with a value of 22.5, than the \"Test\" group which is 6.89. There difference in the max values is even bigger where the \"Control\" group has a value of 951 and the \"Test\" group -- 86.38. There is a chance that the maximum value of the \"Control\" group is an outlier and probably there are other outliers in this group. Now, further exploratory analysis will be done in order to find potential outliers."
      ],
      "metadata": {
        "id": "fjZPaQMXRib9"
      }
    },
    {
      "cell_type": "code",
      "source": [
        "#df[(df['Variant']=='Control')&(df['Revenue']<100)].describe()"
      ],
      "metadata": {
        "id": "xZ86sz0d7qmQ"
      },
      "execution_count": null,
      "outputs": []
    },
    {
      "cell_type": "code",
      "source": [
        "df_c= df[df['Variant']=='Control'] #giving the \"Control\" group data a name, so it's easier to work with it in Python "
      ],
      "metadata": {
        "id": "6MoZ4UydSmlF"
      },
      "execution_count": null,
      "outputs": []
    },
    {
      "cell_type": "code",
      "source": [
        "df_c.head(5) #making sure that the name was successfully attached to this group, by printing the first five rows"
      ],
      "metadata": {
        "colab": {
          "base_uri": "https://localhost:8080/",
          "height": 206
        },
        "id": "BX7h5WSNaLBo",
        "outputId": "45bdbd6f-dc83-4093-f2c3-35c276b6c570"
      },
      "execution_count": null,
      "outputs": [
        {
          "output_type": "execute_result",
          "data": {
            "text/plain": [
              "    user_id  Variant  Revenue\n",
              "0    562625  Control    43.34\n",
              "8    557495  Control    53.81\n",
              "9    275819  Control    50.40\n",
              "10   550476  Control    48.73\n",
              "15   677348  Control    41.11"
            ],
            "text/html": [
              "\n",
              "  <div id=\"df-386f60c2-04f3-4a51-9841-a28294dd078a\">\n",
              "    <div class=\"colab-df-container\">\n",
              "      <div>\n",
              "<style scoped>\n",
              "    .dataframe tbody tr th:only-of-type {\n",
              "        vertical-align: middle;\n",
              "    }\n",
              "\n",
              "    .dataframe tbody tr th {\n",
              "        vertical-align: top;\n",
              "    }\n",
              "\n",
              "    .dataframe thead th {\n",
              "        text-align: right;\n",
              "    }\n",
              "</style>\n",
              "<table border=\"1\" class=\"dataframe\">\n",
              "  <thead>\n",
              "    <tr style=\"text-align: right;\">\n",
              "      <th></th>\n",
              "      <th>user_id</th>\n",
              "      <th>Variant</th>\n",
              "      <th>Revenue</th>\n",
              "    </tr>\n",
              "  </thead>\n",
              "  <tbody>\n",
              "    <tr>\n",
              "      <th>0</th>\n",
              "      <td>562625</td>\n",
              "      <td>Control</td>\n",
              "      <td>43.34</td>\n",
              "    </tr>\n",
              "    <tr>\n",
              "      <th>8</th>\n",
              "      <td>557495</td>\n",
              "      <td>Control</td>\n",
              "      <td>53.81</td>\n",
              "    </tr>\n",
              "    <tr>\n",
              "      <th>9</th>\n",
              "      <td>275819</td>\n",
              "      <td>Control</td>\n",
              "      <td>50.40</td>\n",
              "    </tr>\n",
              "    <tr>\n",
              "      <th>10</th>\n",
              "      <td>550476</td>\n",
              "      <td>Control</td>\n",
              "      <td>48.73</td>\n",
              "    </tr>\n",
              "    <tr>\n",
              "      <th>15</th>\n",
              "      <td>677348</td>\n",
              "      <td>Control</td>\n",
              "      <td>41.11</td>\n",
              "    </tr>\n",
              "  </tbody>\n",
              "</table>\n",
              "</div>\n",
              "      <button class=\"colab-df-convert\" onclick=\"convertToInteractive('df-386f60c2-04f3-4a51-9841-a28294dd078a')\"\n",
              "              title=\"Convert this dataframe to an interactive table.\"\n",
              "              style=\"display:none;\">\n",
              "        \n",
              "  <svg xmlns=\"http://www.w3.org/2000/svg\" height=\"24px\"viewBox=\"0 0 24 24\"\n",
              "       width=\"24px\">\n",
              "    <path d=\"M0 0h24v24H0V0z\" fill=\"none\"/>\n",
              "    <path d=\"M18.56 5.44l.94 2.06.94-2.06 2.06-.94-2.06-.94-.94-2.06-.94 2.06-2.06.94zm-11 1L8.5 8.5l.94-2.06 2.06-.94-2.06-.94L8.5 2.5l-.94 2.06-2.06.94zm10 10l.94 2.06.94-2.06 2.06-.94-2.06-.94-.94-2.06-.94 2.06-2.06.94z\"/><path d=\"M17.41 7.96l-1.37-1.37c-.4-.4-.92-.59-1.43-.59-.52 0-1.04.2-1.43.59L10.3 9.45l-7.72 7.72c-.78.78-.78 2.05 0 2.83L4 21.41c.39.39.9.59 1.41.59.51 0 1.02-.2 1.41-.59l7.78-7.78 2.81-2.81c.8-.78.8-2.07 0-2.86zM5.41 20L4 18.59l7.72-7.72 1.47 1.35L5.41 20z\"/>\n",
              "  </svg>\n",
              "      </button>\n",
              "      \n",
              "  <style>\n",
              "    .colab-df-container {\n",
              "      display:flex;\n",
              "      flex-wrap:wrap;\n",
              "      gap: 12px;\n",
              "    }\n",
              "\n",
              "    .colab-df-convert {\n",
              "      background-color: #E8F0FE;\n",
              "      border: none;\n",
              "      border-radius: 50%;\n",
              "      cursor: pointer;\n",
              "      display: none;\n",
              "      fill: #1967D2;\n",
              "      height: 32px;\n",
              "      padding: 0 0 0 0;\n",
              "      width: 32px;\n",
              "    }\n",
              "\n",
              "    .colab-df-convert:hover {\n",
              "      background-color: #E2EBFA;\n",
              "      box-shadow: 0px 1px 2px rgba(60, 64, 67, 0.3), 0px 1px 3px 1px rgba(60, 64, 67, 0.15);\n",
              "      fill: #174EA6;\n",
              "    }\n",
              "\n",
              "    [theme=dark] .colab-df-convert {\n",
              "      background-color: #3B4455;\n",
              "      fill: #D2E3FC;\n",
              "    }\n",
              "\n",
              "    [theme=dark] .colab-df-convert:hover {\n",
              "      background-color: #434B5C;\n",
              "      box-shadow: 0px 1px 3px 1px rgba(0, 0, 0, 0.15);\n",
              "      filter: drop-shadow(0px 1px 2px rgba(0, 0, 0, 0.3));\n",
              "      fill: #FFFFFF;\n",
              "    }\n",
              "  </style>\n",
              "\n",
              "      <script>\n",
              "        const buttonEl =\n",
              "          document.querySelector('#df-386f60c2-04f3-4a51-9841-a28294dd078a button.colab-df-convert');\n",
              "        buttonEl.style.display =\n",
              "          google.colab.kernel.accessAllowed ? 'block' : 'none';\n",
              "\n",
              "        async function convertToInteractive(key) {\n",
              "          const element = document.querySelector('#df-386f60c2-04f3-4a51-9841-a28294dd078a');\n",
              "          const dataTable =\n",
              "            await google.colab.kernel.invokeFunction('convertToInteractive',\n",
              "                                                     [key], {});\n",
              "          if (!dataTable) return;\n",
              "\n",
              "          const docLinkHtml = 'Like what you see? Visit the ' +\n",
              "            '<a target=\"_blank\" href=https://colab.research.google.com/notebooks/data_table.ipynb>data table notebook</a>'\n",
              "            + ' to learn more about interactive tables.';\n",
              "          element.innerHTML = '';\n",
              "          dataTable['output_type'] = 'display_data';\n",
              "          await google.colab.output.renderOutput(dataTable, element);\n",
              "          const docLink = document.createElement('div');\n",
              "          docLink.innerHTML = docLinkHtml;\n",
              "          element.appendChild(docLink);\n",
              "        }\n",
              "      </script>\n",
              "    </div>\n",
              "  </div>\n",
              "  "
            ]
          },
          "metadata": {},
          "execution_count": 119
        }
      ]
    },
    {
      "cell_type": "code",
      "source": [
        "df_t = df[df['Variant']=='Test'] #giving the \"Test\" group a name"
      ],
      "metadata": {
        "id": "2EIEFfdhaMIq"
      },
      "execution_count": null,
      "outputs": []
    },
    {
      "cell_type": "code",
      "source": [
        "df_t.head(5)"
      ],
      "metadata": {
        "colab": {
          "base_uri": "https://localhost:8080/",
          "height": 206
        },
        "id": "qsnm2iJead_6",
        "outputId": "badc7b42-f19e-422f-d5fc-7f528da2d0c1"
      },
      "execution_count": null,
      "outputs": [
        {
          "output_type": "execute_result",
          "data": {
            "text/plain": [
              "   user_id Variant  Revenue\n",
              "1   935989    Test    51.05\n",
              "2   676822    Test    61.13\n",
              "3   933683    Test    45.85\n",
              "4   967127    Test    48.10\n",
              "5   345012    Test    54.59"
            ],
            "text/html": [
              "\n",
              "  <div id=\"df-f0cc7244-276d-4ca3-8e48-7530d86ca565\">\n",
              "    <div class=\"colab-df-container\">\n",
              "      <div>\n",
              "<style scoped>\n",
              "    .dataframe tbody tr th:only-of-type {\n",
              "        vertical-align: middle;\n",
              "    }\n",
              "\n",
              "    .dataframe tbody tr th {\n",
              "        vertical-align: top;\n",
              "    }\n",
              "\n",
              "    .dataframe thead th {\n",
              "        text-align: right;\n",
              "    }\n",
              "</style>\n",
              "<table border=\"1\" class=\"dataframe\">\n",
              "  <thead>\n",
              "    <tr style=\"text-align: right;\">\n",
              "      <th></th>\n",
              "      <th>user_id</th>\n",
              "      <th>Variant</th>\n",
              "      <th>Revenue</th>\n",
              "    </tr>\n",
              "  </thead>\n",
              "  <tbody>\n",
              "    <tr>\n",
              "      <th>1</th>\n",
              "      <td>935989</td>\n",
              "      <td>Test</td>\n",
              "      <td>51.05</td>\n",
              "    </tr>\n",
              "    <tr>\n",
              "      <th>2</th>\n",
              "      <td>676822</td>\n",
              "      <td>Test</td>\n",
              "      <td>61.13</td>\n",
              "    </tr>\n",
              "    <tr>\n",
              "      <th>3</th>\n",
              "      <td>933683</td>\n",
              "      <td>Test</td>\n",
              "      <td>45.85</td>\n",
              "    </tr>\n",
              "    <tr>\n",
              "      <th>4</th>\n",
              "      <td>967127</td>\n",
              "      <td>Test</td>\n",
              "      <td>48.10</td>\n",
              "    </tr>\n",
              "    <tr>\n",
              "      <th>5</th>\n",
              "      <td>345012</td>\n",
              "      <td>Test</td>\n",
              "      <td>54.59</td>\n",
              "    </tr>\n",
              "  </tbody>\n",
              "</table>\n",
              "</div>\n",
              "      <button class=\"colab-df-convert\" onclick=\"convertToInteractive('df-f0cc7244-276d-4ca3-8e48-7530d86ca565')\"\n",
              "              title=\"Convert this dataframe to an interactive table.\"\n",
              "              style=\"display:none;\">\n",
              "        \n",
              "  <svg xmlns=\"http://www.w3.org/2000/svg\" height=\"24px\"viewBox=\"0 0 24 24\"\n",
              "       width=\"24px\">\n",
              "    <path d=\"M0 0h24v24H0V0z\" fill=\"none\"/>\n",
              "    <path d=\"M18.56 5.44l.94 2.06.94-2.06 2.06-.94-2.06-.94-.94-2.06-.94 2.06-2.06.94zm-11 1L8.5 8.5l.94-2.06 2.06-.94-2.06-.94L8.5 2.5l-.94 2.06-2.06.94zm10 10l.94 2.06.94-2.06 2.06-.94-2.06-.94-.94-2.06-.94 2.06-2.06.94z\"/><path d=\"M17.41 7.96l-1.37-1.37c-.4-.4-.92-.59-1.43-.59-.52 0-1.04.2-1.43.59L10.3 9.45l-7.72 7.72c-.78.78-.78 2.05 0 2.83L4 21.41c.39.39.9.59 1.41.59.51 0 1.02-.2 1.41-.59l7.78-7.78 2.81-2.81c.8-.78.8-2.07 0-2.86zM5.41 20L4 18.59l7.72-7.72 1.47 1.35L5.41 20z\"/>\n",
              "  </svg>\n",
              "      </button>\n",
              "      \n",
              "  <style>\n",
              "    .colab-df-container {\n",
              "      display:flex;\n",
              "      flex-wrap:wrap;\n",
              "      gap: 12px;\n",
              "    }\n",
              "\n",
              "    .colab-df-convert {\n",
              "      background-color: #E8F0FE;\n",
              "      border: none;\n",
              "      border-radius: 50%;\n",
              "      cursor: pointer;\n",
              "      display: none;\n",
              "      fill: #1967D2;\n",
              "      height: 32px;\n",
              "      padding: 0 0 0 0;\n",
              "      width: 32px;\n",
              "    }\n",
              "\n",
              "    .colab-df-convert:hover {\n",
              "      background-color: #E2EBFA;\n",
              "      box-shadow: 0px 1px 2px rgba(60, 64, 67, 0.3), 0px 1px 3px 1px rgba(60, 64, 67, 0.15);\n",
              "      fill: #174EA6;\n",
              "    }\n",
              "\n",
              "    [theme=dark] .colab-df-convert {\n",
              "      background-color: #3B4455;\n",
              "      fill: #D2E3FC;\n",
              "    }\n",
              "\n",
              "    [theme=dark] .colab-df-convert:hover {\n",
              "      background-color: #434B5C;\n",
              "      box-shadow: 0px 1px 3px 1px rgba(0, 0, 0, 0.15);\n",
              "      filter: drop-shadow(0px 1px 2px rgba(0, 0, 0, 0.3));\n",
              "      fill: #FFFFFF;\n",
              "    }\n",
              "  </style>\n",
              "\n",
              "      <script>\n",
              "        const buttonEl =\n",
              "          document.querySelector('#df-f0cc7244-276d-4ca3-8e48-7530d86ca565 button.colab-df-convert');\n",
              "        buttonEl.style.display =\n",
              "          google.colab.kernel.accessAllowed ? 'block' : 'none';\n",
              "\n",
              "        async function convertToInteractive(key) {\n",
              "          const element = document.querySelector('#df-f0cc7244-276d-4ca3-8e48-7530d86ca565');\n",
              "          const dataTable =\n",
              "            await google.colab.kernel.invokeFunction('convertToInteractive',\n",
              "                                                     [key], {});\n",
              "          if (!dataTable) return;\n",
              "\n",
              "          const docLinkHtml = 'Like what you see? Visit the ' +\n",
              "            '<a target=\"_blank\" href=https://colab.research.google.com/notebooks/data_table.ipynb>data table notebook</a>'\n",
              "            + ' to learn more about interactive tables.';\n",
              "          element.innerHTML = '';\n",
              "          dataTable['output_type'] = 'display_data';\n",
              "          await google.colab.output.renderOutput(dataTable, element);\n",
              "          const docLink = document.createElement('div');\n",
              "          docLink.innerHTML = docLinkHtml;\n",
              "          element.appendChild(docLink);\n",
              "        }\n",
              "      </script>\n",
              "    </div>\n",
              "  </div>\n",
              "  "
            ]
          },
          "metadata": {},
          "execution_count": 121
        }
      ]
    },
    {
      "cell_type": "code",
      "source": [
        "boxplot_c = sns.boxplot(x=df_c['Revenue'])\n",
        "boxplot_c.set( xlabel = \"Revenue\", ylabel = \"\")\n",
        "boxplot_c.set_title( \"Control\")\n",
        "#printing a boxplot of the Revenue of the \"Control\" group as this is one way to spot outliers"
      ],
      "metadata": {
        "colab": {
          "base_uri": "https://localhost:8080/",
          "height": 318
        },
        "id": "Gnf0e_VHath0",
        "outputId": "5b057f6d-bb8a-4486-f54f-9b18c5041959"
      },
      "execution_count": null,
      "outputs": [
        {
          "output_type": "execute_result",
          "data": {
            "text/plain": [
              "Text(0.5, 1.0, 'Control')"
            ]
          },
          "metadata": {},
          "execution_count": 122
        },
        {
          "output_type": "display_data",
          "data": {
            "text/plain": [
              "<Figure size 432x288 with 1 Axes>"
            ],
            "image/png": "[encoded data removed]"
          },
          "metadata": {}
        }
      ]
    },
    {
      "cell_type": "markdown",
      "source": [
        "It can be seen from the boxplot that almost of of the data is lower than 100, and that there are only a few datapoints larger than 200. There is a high chance that those points are outliers. "
      ],
      "metadata": {
        "id": "DgfMeO5dZT7q"
      }
    },
    {
      "cell_type": "code",
      "source": [
        "boxplot_stats(df_c['Revenue']) #printing more stats for the \"Control\" boxplot"
      ],
      "metadata": {
        "colab": {
          "base_uri": "https://localhost:8080/"
        },
        "id": "4pvtnvrBVzZ8",
        "outputId": "be196632-f294-4888-80fe-0f4a88245bb4"
      },
      "execution_count": null,
      "outputs": [
        {
          "output_type": "execute_result",
          "data": {
            "text/plain": [
              "[{'cihi': 50.49027035978008,\n",
              "  'cilo': 50.08972964021992,\n",
              "  'fliers': array([ 20.22,  24.39,  78.84,  78.19,  79.98,  80.37,  78.72,  87.12,\n",
              "          78.79,  78.59, 951.03,  78.43,  80.36,  91.66,  82.99,  83.94,\n",
              "          83.37,  79.11,  88.16, 694.8 ,  89.26,  82.25, 733.69,  81.22,\n",
              "          81.75,  80.73, 628.6 ,  85.02,  76.84,  78.45,  83.34,  97.49,\n",
              "          79.2 ,  85.74,  79.76,  79.85,  78.14,  87.69,  82.06,  79.63,\n",
              "          79.16,  77.06,  77.96,  88.52,  82.6 ,  80.4 ,  79.01, 207.38,\n",
              "          85.4 ,  77.14,  83.79,  90.78,  82.28,  81.78,  82.55,  91.46,\n",
              "          87.64, 603.18,  85.3 ,  80.24,  77.2 ,  81.31,  81.61,  82.48,\n",
              "          78.81,  76.85,  85.73,  79.35,  77.18,  77.71,  78.36,  84.79,\n",
              "          87.18,  77.74,  89.57,  82.34,  82.06,  76.83,  77.1 , 791.33,\n",
              "          89.11,  84.82,  78.22,  82.74,  77.79,  79.21,  83.24,  78.35,\n",
              "          84.09,  81.01,  78.99,  84.63,  78.46,  78.42,  85.35,  81.2 ,\n",
              "          79.18,  79.47,  78.59,  79.12,  78.63, 248.61,  91.78,  83.46,\n",
              "          95.28,  89.11,  80.56, 725.61,  84.23,  83.66,  77.52,  83.01,\n",
              "          91.39,  86.02,  77.45,  98.77,  94.44,  90.06,  79.49,  77.82,\n",
              "          79.34,  81.37,  77.36,  81.02,  78.23,  78.48,  77.78,  79.05,\n",
              "          80.73,  93.64,  83.23,  88.18,  82.61,  82.36,  78.13,  85.72,\n",
              "          81.62,  78.69, 430.38,  78.84,  79.22,  80.46,  84.91,  77.81,\n",
              "         257.85,  86.56,  84.04,  77.07,  78.85,  78.19,  78.56, 435.43,\n",
              "          79.01,  83.72,  77.73, 725.37,  82.12,  88.26,  90.43,  77.57,\n",
              "          77.21,  80.45, 271.48,  82.23,  78.48,  81.31,  76.96,  88.75,\n",
              "          79.44,  82.11,  85.51,  80.08,  86.51,  79.01,  76.88,  83.58]),\n",
              "  'iqr': 12.765,\n",
              "  'mean': 52.906208308368285,\n",
              "  'med': 50.29,\n",
              "  'q1': 44.9,\n",
              "  'q3': 57.665,\n",
              "  'whishi': 76.77,\n",
              "  'whislo': 27.85}]"
            ]
          },
          "metadata": {},
          "execution_count": 123
        }
      ]
    },
    {
      "cell_type": "code",
      "source": [
        "boxplot_t = sns.boxplot(x=df_t['Revenue']) \n",
        "boxplot_t.set( xlabel = \"Revenue\", ylabel = \"\")\n",
        "boxplot_t.set_title( \"Test\")\n",
        "#printing the boxplot for the \"Test\" group"
      ],
      "metadata": {
        "colab": {
          "base_uri": "https://localhost:8080/",
          "height": 318
        },
        "id": "VXcBMBPEbak-",
        "outputId": "d42863c5-ccd3-40e0-c507-0eaa68b4952f"
      },
      "execution_count": null,
      "outputs": [
        {
          "output_type": "execute_result",
          "data": {
            "text/plain": [
              "Text(0.5, 1.0, 'Test')"
            ]
          },
          "metadata": {},
          "execution_count": 124
        },
        {
          "output_type": "display_data",
          "data": {
            "text/plain": [
              "<Figure size 432x288 with 1 Axes>"
            ],
            "image/png": "[encoded data removed]"
          },
          "metadata": {}
        }
      ]
    },
    {
      "cell_type": "markdown",
      "source": [
        "It looks like there is a much lower chance of having outliers here as the majority of the data is contained up until a Revenue of 70. The datapoints which are higher than 70 are placed very close to each other so probably they wouldn't be outliers."
      ],
      "metadata": {
        "id": "8-ZrHY4JagJy"
      }
    },
    {
      "cell_type": "code",
      "source": [
        "test_hist = df_t['Revenue'].plot(kind='hist', bins = 100); \n",
        "test_hist.set( xlabel = \"Revenue\", ylabel = \"Frequency\")\n",
        "test_hist.set_title(\"Test\")\n",
        "#printing a histogram of the \"Test\" group"
      ],
      "metadata": {
        "colab": {
          "base_uri": "https://localhost:8080/",
          "height": 318
        },
        "id": "y1rjfq6abg4u",
        "outputId": "cc65cbeb-b134-4386-e2ca-f5adf6250577"
      },
      "execution_count": null,
      "outputs": [
        {
          "output_type": "execute_result",
          "data": {
            "text/plain": [
              "Text(0.5, 1.0, 'Test')"
            ]
          },
          "metadata": {},
          "execution_count": 125
        },
        {
          "output_type": "display_data",
          "data": {
            "text/plain": [
              "<Figure size 432x288 with 1 Axes>"
            ],
            "image/png": "[encoded data removed]"
          },
          "metadata": {}
        }
      ]
    },
    {
      "cell_type": "markdown",
      "source": [
        "This histogram gives us a better understanding of the \"Test\" group revenue data and how it is distributed."
      ],
      "metadata": {
        "id": "i1Inp1zbcSA8"
      }
    },
    {
      "cell_type": "code",
      "source": [
        "df_t[\"Revenue\"].mode() # double-checking the mode of the \"Test\" group revenue histogram"
      ],
      "metadata": {
        "colab": {
          "base_uri": "https://localhost:8080/"
        },
        "id": "Ihx58_Lvd0lP",
        "outputId": "478cd676-07a6-47e7-bc11-d593aa59cde2"
      },
      "execution_count": null,
      "outputs": [
        {
          "output_type": "execute_result",
          "data": {
            "text/plain": [
              "0    46.21\n",
              "dtype: float64"
            ]
          },
          "metadata": {},
          "execution_count": 126
        }
      ]
    },
    {
      "cell_type": "markdown",
      "source": [
        ""
      ],
      "metadata": {
        "id": "B5jqjuPueUBX"
      }
    },
    {
      "cell_type": "code",
      "source": [
        "control_hist = df_c['Revenue'].plot(kind='hist', bins = 100);\n",
        "control_hist.set( xlabel = \"Revenue\", ylabel = \"Frequency\")\n",
        "control_hist.set_title(\"Control\")\n",
        "#printing a histogram of the \"Control\" group"
      ],
      "metadata": {
        "colab": {
          "base_uri": "https://localhost:8080/",
          "height": 318
        },
        "id": "Of10loGtBbr4",
        "outputId": "feea0ce0-6216-4870-c796-ef111d607444"
      },
      "execution_count": null,
      "outputs": [
        {
          "output_type": "execute_result",
          "data": {
            "text/plain": [
              "Text(0.5, 1.0, 'Control')"
            ]
          },
          "metadata": {},
          "execution_count": 127
        },
        {
          "output_type": "display_data",
          "data": {
            "text/plain": [
              "<Figure size 432x288 with 1 Axes>"
            ],
            "image/png": "[encoded data removed]"
          },
          "metadata": {}
        }
      ]
    },
    {
      "cell_type": "markdown",
      "source": [
        "The \"Control\" group histogram shows that all of the data is contained below revenue value of a hundred. The number of data points that we saw earlier on the boxplot that are higher that 200, is probably so small that it is negligible to the rest of the data. This is another endication that they probably are outliers."
      ],
      "metadata": {
        "id": "1SdpNbTMfGMl"
      }
    },
    {
      "cell_type": "code",
      "source": [
        "df_c_o=df[(df['Variant']=='Control')&(df['Revenue']<100)] #giving a name of the group of the data points in the \"Control\" group that are lower than a hundred\n",
        "control_hist_100 = df_c_o['Revenue'].plot(kind='hist', bins = 100);\n",
        "control_hist_100.set( xlabel = \"Revenue\", ylabel = \"Frequency\")\n",
        "control_hist_100.set_title(\"Control group for  Revenue<100\")\n",
        "#printing the histogram"
      ],
      "metadata": {
        "colab": {
          "base_uri": "https://localhost:8080/",
          "height": 318
        },
        "id": "nNKvYMvtDGf_",
        "outputId": "8ec33883-ce6e-4974-9900-55af0f389108"
      },
      "execution_count": null,
      "outputs": [
        {
          "output_type": "execute_result",
          "data": {
            "text/plain": [
              "Text(0.5, 1.0, 'Control group for  Revenue<100')"
            ]
          },
          "metadata": {},
          "execution_count": 128
        },
        {
          "output_type": "display_data",
          "data": {
            "text/plain": [
              "<Figure size 432x288 with 1 Axes>"
            ],
            "image/png": "[encoded data removed]"
          },
          "metadata": {}
        }
      ]
    },
    {
      "cell_type": "markdown",
      "source": [
        "Printing the \"Control\" group histogram for values lower than a hundred gives us a better understanding of the shape of this histogram. We can see that the this is not a normal distribution -- the data is right-skewed. Therefore, we can't perform the methods for outlier detection and removal for a normal distribution."
      ],
      "metadata": {
        "id": "jS_CiiDMhQva"
      }
    },
    {
      "cell_type": "code",
      "source": [
        "print(df_c['Revenue'].skew()) #checking the \"skewness\" of the \"Control\" group data"
      ],
      "metadata": {
        "colab": {
          "base_uri": "https://localhost:8080/"
        },
        "id": "GvYA6DSQDJiT",
        "outputId": "853ab3ee-8696-4a42-cc73-eecfc02e4d52"
      },
      "execution_count": null,
      "outputs": [
        {
          "output_type": "stream",
          "name": "stdout",
          "text": [
            "24.683515872732663\n"
          ]
        }
      ]
    },
    {
      "cell_type": "markdown",
      "source": [
        "If skewness is less than -1 or greater than 1, the distribution is highly skewed.\n",
        "If skewness is between -1 and -0.5 or between 0.5 and 1, the distribution is moderately skewed.\n",
        "If skewness is between -0.5 and 0.5, the distribution is approximately symmetric. The \"Control\" group distrubution is highly skewed."
      ],
      "metadata": {
        "id": "mwDMOXmyiRI5"
      }
    },
    {
      "cell_type": "code",
      "source": [
        "print(df_t['Revenue'].skew()) #checking the \"skewness\" of the \"Test\" group data"
      ],
      "metadata": {
        "colab": {
          "base_uri": "https://localhost:8080/"
        },
        "id": "8fuqSBvZUx1m",
        "outputId": "e5ca395c-4821-422e-f928-cf263c093da4"
      },
      "execution_count": null,
      "outputs": [
        {
          "output_type": "stream",
          "name": "stdout",
          "text": [
            "0.7654616177032911\n"
          ]
        }
      ]
    },
    {
      "cell_type": "markdown",
      "source": [
        "The \"Test\" group distrubution is moderately skewed."
      ],
      "metadata": {
        "id": "klJnZwnejkh7"
      }
    },
    {
      "cell_type": "markdown",
      "source": [
        "On the \"Control\" group histogram data one could see that there are no values below 38. If one plots the histogram within the range $>38$ and $<100$ , the shape of the histogram could be seen more clearly. The statistics plot in the beginning of the code showed that the minimum revenue value of the \"Control\" group is 20.22, but we are going to set it to 38 first just for a better visual representation of the majority of the data."
      ],
      "metadata": {
        "id": "-C-9aq_vjxzd"
      }
    },
    {
      "cell_type": "code",
      "source": [
        "df_c_j=df[(df['Variant']=='Control')&(df['Revenue']>38)&(df['Revenue']<100)] "
      ],
      "metadata": {
        "id": "WZucB4toUzD2"
      },
      "execution_count": null,
      "outputs": []
    },
    {
      "cell_type": "code",
      "source": [
        "control_hist_38_100 =  df_c_j['Revenue'].plot(kind='hist', bins = 100);\n",
        "control_hist_38_100.set( xlabel = \"Revenue\", ylabel = \"Frequency\")\n",
        "control_hist_38_100.set_title(\"Control group 38<Revenue<100\")"
      ],
      "metadata": {
        "colab": {
          "base_uri": "https://localhost:8080/",
          "height": 318
        },
        "id": "OjzweH5sIDmc",
        "outputId": "ed11792a-6086-4c81-b30c-3199bebdd3ed"
      },
      "execution_count": null,
      "outputs": [
        {
          "output_type": "execute_result",
          "data": {
            "text/plain": [
              "Text(0.5, 1.0, 'Control group 38<Revenue<100')"
            ]
          },
          "metadata": {},
          "execution_count": 132
        },
        {
          "output_type": "display_data",
          "data": {
            "text/plain": [
              "<Figure size 432x288 with 1 Axes>"
            ],
            "image/png": "[encoded data removed]"
          },
          "metadata": {}
        }
      ]
    },
    {
      "cell_type": "markdown",
      "source": [
        "Checking the potential outliers part of the \"Control\" group histogram"
      ],
      "metadata": {
        "id": "78bxtkxfl2iv"
      }
    },
    {
      "cell_type": "code",
      "source": [
        "df_c_s=df[(df['Variant']=='Control')&(df['Revenue']>19)&(df['Revenue']<40)] "
      ],
      "metadata": {
        "id": "AzRZ-z1Drzen"
      },
      "execution_count": null,
      "outputs": []
    },
    {
      "cell_type": "code",
      "source": [
        "control_hist_19_40 =  df_c_s['Revenue'].plot(kind='hist', bins = 100);\n",
        "control_hist_19_40.set( xlabel = \"Revenue\", ylabel = \"Frequency\")\n",
        "control_hist_19_40.set_title(\"Control group 19<Revenue<40\")"
      ],
      "metadata": {
        "colab": {
          "base_uri": "https://localhost:8080/",
          "height": 318
        },
        "id": "2gcUVEbKr8Wk",
        "outputId": "35ed1edf-0753-40ae-df70-902f91e20519"
      },
      "execution_count": null,
      "outputs": [
        {
          "output_type": "execute_result",
          "data": {
            "text/plain": [
              "Text(0.5, 1.0, 'Control group 19<Revenue<40')"
            ]
          },
          "metadata": {},
          "execution_count": 134
        },
        {
          "output_type": "display_data",
          "data": {
            "text/plain": [
              "<Figure size 432x288 with 1 Axes>"
            ],
            "image/png": "[encoded data removed]"
          },
          "metadata": {}
        }
      ]
    },
    {
      "cell_type": "markdown",
      "source": [
        "The \"Control\" group histogram for values between 19 and 40 shows that there are very few datapoints in that range."
      ],
      "metadata": {
        "id": "cPSUDt1FsZXC"
      }
    },
    {
      "cell_type": "code",
      "source": [
        "df_c_p=df[(df['Variant']=='Control')&(df['Revenue']>100)]"
      ],
      "metadata": {
        "id": "6NcYQvpMLymP"
      },
      "execution_count": null,
      "outputs": []
    },
    {
      "cell_type": "code",
      "source": [
        "control_hist_larger_100 = df_c_p['Revenue'].plot(kind='hist', bins = 100);\n",
        "control_hist_larger_100.set( xlabel = \"Revenue\", ylabel = \"Frequency\")\n",
        "control_hist_larger_100.set_title(\"Control group Revenue>100\")"
      ],
      "metadata": {
        "colab": {
          "base_uri": "https://localhost:8080/",
          "height": 318
        },
        "id": "YzebZKW-MAQK",
        "outputId": "6484ae8b-44e0-4a65-d156-ada88c6c0300"
      },
      "execution_count": null,
      "outputs": [
        {
          "output_type": "execute_result",
          "data": {
            "text/plain": [
              "Text(0.5, 1.0, 'Control group Revenue>100')"
            ]
          },
          "metadata": {},
          "execution_count": 136
        },
        {
          "output_type": "display_data",
          "data": {
            "text/plain": [
              "<Figure size 432x288 with 1 Axes>"
            ],
            "image/png": "[encoded data removed]"
          },
          "metadata": {}
        }
      ]
    },
    {
      "cell_type": "markdown",
      "source": [
        "The \"Frequency\" shows a value of 1 or 2, which means that there are almost no datapoints $>100$ as is was suspected earler, but this histogram gives a better visual representation of them."
      ],
      "metadata": {
        "id": "kAWU04WBnoMk"
      }
    },
    {
      "cell_type": "code",
      "source": [
        "df_c_m=df[(df['Variant']=='Control')&(df['Revenue']>80)&(df['Revenue']<300)]"
      ],
      "metadata": {
        "id": "AHHrH1wljRB3"
      },
      "execution_count": null,
      "outputs": []
    },
    {
      "cell_type": "code",
      "source": [
        "control_hist_80_300 = df_c_m['Revenue'].plot(kind='hist', bins = 100);\n",
        "control_hist_80_300.set( xlabel = \"Revenue\", ylabel = \"Frequency\")\n",
        "control_hist_80_300.set_title(\"Control group 80<Revenue<300\")"
      ],
      "metadata": {
        "colab": {
          "base_uri": "https://localhost:8080/",
          "height": 318
        },
        "id": "qE6SVq9rjaSD",
        "outputId": "e0c6ecab-2cd2-4491-9c86-c620bfb806bd"
      },
      "execution_count": null,
      "outputs": [
        {
          "output_type": "execute_result",
          "data": {
            "text/plain": [
              "Text(0.5, 1.0, 'Control group 80<Revenue<300')"
            ]
          },
          "metadata": {},
          "execution_count": 138
        },
        {
          "output_type": "display_data",
          "data": {
            "text/plain": [
              "<Figure size 432x288 with 1 Axes>"
            ],
            "image/png": "[encoded data removed]"
          },
          "metadata": {}
        }
      ]
    },
    {
      "cell_type": "markdown",
      "source": [
        "The \"Control\" group histogram for values between 80 and 300 gives a better visual representation of where the potential real data ends. It is also easier to compare that data with the potentual outliers. One can see that there are no values between 100 and 200, which is a huge gap, having in mind that the majority of the data is between 20 and 100."
      ],
      "metadata": {
        "id": "VqOqyCgEpR4S"
      }
    },
    {
      "cell_type": "code",
      "source": [
        "outliers_counter = len(df_c[df_c['Revenue'] > 100]) \n",
        "outliers_counter"
      ],
      "metadata": {
        "colab": {
          "base_uri": "https://localhost:8080/"
        },
        "id": "VprTXdUOioMy",
        "outputId": "28e17f34-aaa9-4c70-d580-dd2e63334956"
      },
      "execution_count": null,
      "outputs": [
        {
          "output_type": "execute_result",
          "data": {
            "text/plain": [
              "14"
            ]
          },
          "metadata": {},
          "execution_count": 139
        }
      ]
    },
    {
      "cell_type": "markdown",
      "source": [
        "The number of potential outliers of datapoints $>100$ has been found to be only 14. The total count of the datapoints in the \"Control\" group in the beginning of the code was found to be 10014. One can do the ratio of both to see the percentage of the potentiall outliers:"
      ],
      "metadata": {
        "id": "x-OrXxGytTUB"
      }
    },
    {
      "cell_type": "code",
      "source": [
        "100*(14/10014)"
      ],
      "metadata": {
        "colab": {
          "base_uri": "https://localhost:8080/"
        },
        "id": "YGVhL3le6GPk",
        "outputId": "a55b2201-fe08-46aa-c003-92f6bfcd6ed0"
      },
      "execution_count": null,
      "outputs": [
        {
          "output_type": "execute_result",
          "data": {
            "text/plain": [
              "0.13980427401637707"
            ]
          },
          "metadata": {},
          "execution_count": 140
        }
      ]
    },
    {
      "cell_type": "markdown",
      "source": [
        "This is only 0.14% of the data. This is well withing the outlier range of any data. This could be data that has been recorded in a wrong way. Alternatively, this could be true data for only 0.14% of purchases. Unless there is more information about those purchases, such as the time when was it made, the location and such, this data should be considered as outliers. If additional data could be provided to analyse these data points further, that would be beneficial.\n",
        "Let's bring the statistics for the \"Test\" group and the \"Control\" group excluding the outliers:"
      ],
      "metadata": {
        "id": "H0f36p-lvCKG"
      }
    },
    {
      "cell_type": "code",
      "source": [
        "df[df['Variant']=='Test'].describe() #checking the stats of \"Test\""
      ],
      "metadata": {
        "colab": {
          "base_uri": "https://localhost:8080/",
          "height": 300
        },
        "id": "aThHhJANy_uV",
        "outputId": "ec52fb10-d43a-4244-b69e-c51565059067"
      },
      "execution_count": null,
      "outputs": [
        {
          "output_type": "execute_result",
          "data": {
            "text/plain": [
              "             user_id      Revenue\n",
              "count    9547.000000  9547.000000\n",
              "mean   548249.460773    52.406548\n",
              "std    258377.210094     6.896169\n",
              "min    100097.000000    35.700000\n",
              "25%    330206.500000    47.260000\n",
              "50%    545079.000000    51.370000\n",
              "75%    770068.000000    56.480000\n",
              "max    999950.000000    86.380000"
            ],
            "text/html": [
              "\n",
              "  <div id=\"df-eb503655-cbe5-4adc-8440-ecb95bb97329\">\n",
              "    <div class=\"colab-df-container\">\n",
              "      <div>\n",
              "<style scoped>\n",
              "    .dataframe tbody tr th:only-of-type {\n",
              "        vertical-align: middle;\n",
              "    }\n",
              "\n",
              "    .dataframe tbody tr th {\n",
              "        vertical-align: top;\n",
              "    }\n",
              "\n",
              "    .dataframe thead th {\n",
              "        text-align: right;\n",
              "    }\n",
              "</style>\n",
              "<table border=\"1\" class=\"dataframe\">\n",
              "  <thead>\n",
              "    <tr style=\"text-align: right;\">\n",
              "      <th></th>\n",
              "      <th>user_id</th>\n",
              "      <th>Revenue</th>\n",
              "    </tr>\n",
              "  </thead>\n",
              "  <tbody>\n",
              "    <tr>\n",
              "      <th>count</th>\n",
              "      <td>9547.000000</td>\n",
              "      <td>9547.000000</td>\n",
              "    </tr>\n",
              "    <tr>\n",
              "      <th>mean</th>\n",
              "      <td>548249.460773</td>\n",
              "      <td>52.406548</td>\n",
              "    </tr>\n",
              "    <tr>\n",
              "      <th>std</th>\n",
              "      <td>258377.210094</td>\n",
              "      <td>6.896169</td>\n",
              "    </tr>\n",
              "    <tr>\n",
              "      <th>min</th>\n",
              "      <td>100097.000000</td>\n",
              "      <td>35.700000</td>\n",
              "    </tr>\n",
              "    <tr>\n",
              "      <th>25%</th>\n",
              "      <td>330206.500000</td>\n",
              "      <td>47.260000</td>\n",
              "    </tr>\n",
              "    <tr>\n",
              "      <th>50%</th>\n",
              "      <td>545079.000000</td>\n",
              "      <td>51.370000</td>\n",
              "    </tr>\n",
              "    <tr>\n",
              "      <th>75%</th>\n",
              "      <td>770068.000000</td>\n",
              "      <td>56.480000</td>\n",
              "    </tr>\n",
              "    <tr>\n",
              "      <th>max</th>\n",
              "      <td>999950.000000</td>\n",
              "      <td>86.380000</td>\n",
              "    </tr>\n",
              "  </tbody>\n",
              "</table>\n",
              "</div>\n",
              "      <button class=\"colab-df-convert\" onclick=\"convertToInteractive('df-eb503655-cbe5-4adc-8440-ecb95bb97329')\"\n",
              "              title=\"Convert this dataframe to an interactive table.\"\n",
              "              style=\"display:none;\">\n",
              "        \n",
              "  <svg xmlns=\"http://www.w3.org/2000/svg\" height=\"24px\"viewBox=\"0 0 24 24\"\n",
              "       width=\"24px\">\n",
              "    <path d=\"M0 0h24v24H0V0z\" fill=\"none\"/>\n",
              "    <path d=\"M18.56 5.44l.94 2.06.94-2.06 2.06-.94-2.06-.94-.94-2.06-.94 2.06-2.06.94zm-11 1L8.5 8.5l.94-2.06 2.06-.94-2.06-.94L8.5 2.5l-.94 2.06-2.06.94zm10 10l.94 2.06.94-2.06 2.06-.94-2.06-.94-.94-2.06-.94 2.06-2.06.94z\"/><path d=\"M17.41 7.96l-1.37-1.37c-.4-.4-.92-.59-1.43-.59-.52 0-1.04.2-1.43.59L10.3 9.45l-7.72 7.72c-.78.78-.78 2.05 0 2.83L4 21.41c.39.39.9.59 1.41.59.51 0 1.02-.2 1.41-.59l7.78-7.78 2.81-2.81c.8-.78.8-2.07 0-2.86zM5.41 20L4 18.59l7.72-7.72 1.47 1.35L5.41 20z\"/>\n",
              "  </svg>\n",
              "      </button>\n",
              "      \n",
              "  <style>\n",
              "    .colab-df-container {\n",
              "      display:flex;\n",
              "      flex-wrap:wrap;\n",
              "      gap: 12px;\n",
              "    }\n",
              "\n",
              "    .colab-df-convert {\n",
              "      background-color: #E8F0FE;\n",
              "      border: none;\n",
              "      border-radius: 50%;\n",
              "      cursor: pointer;\n",
              "      display: none;\n",
              "      fill: #1967D2;\n",
              "      height: 32px;\n",
              "      padding: 0 0 0 0;\n",
              "      width: 32px;\n",
              "    }\n",
              "\n",
              "    .colab-df-convert:hover {\n",
              "      background-color: #E2EBFA;\n",
              "      box-shadow: 0px 1px 2px rgba(60, 64, 67, 0.3), 0px 1px 3px 1px rgba(60, 64, 67, 0.15);\n",
              "      fill: #174EA6;\n",
              "    }\n",
              "\n",
              "    [theme=dark] .colab-df-convert {\n",
              "      background-color: #3B4455;\n",
              "      fill: #D2E3FC;\n",
              "    }\n",
              "\n",
              "    [theme=dark] .colab-df-convert:hover {\n",
              "      background-color: #434B5C;\n",
              "      box-shadow: 0px 1px 3px 1px rgba(0, 0, 0, 0.15);\n",
              "      filter: drop-shadow(0px 1px 2px rgba(0, 0, 0, 0.3));\n",
              "      fill: #FFFFFF;\n",
              "    }\n",
              "  </style>\n",
              "\n",
              "      <script>\n",
              "        const buttonEl =\n",
              "          document.querySelector('#df-eb503655-cbe5-4adc-8440-ecb95bb97329 button.colab-df-convert');\n",
              "        buttonEl.style.display =\n",
              "          google.colab.kernel.accessAllowed ? 'block' : 'none';\n",
              "\n",
              "        async function convertToInteractive(key) {\n",
              "          const element = document.querySelector('#df-eb503655-cbe5-4adc-8440-ecb95bb97329');\n",
              "          const dataTable =\n",
              "            await google.colab.kernel.invokeFunction('convertToInteractive',\n",
              "                                                     [key], {});\n",
              "          if (!dataTable) return;\n",
              "\n",
              "          const docLinkHtml = 'Like what you see? Visit the ' +\n",
              "            '<a target=\"_blank\" href=https://colab.research.google.com/notebooks/data_table.ipynb>data table notebook</a>'\n",
              "            + ' to learn more about interactive tables.';\n",
              "          element.innerHTML = '';\n",
              "          dataTable['output_type'] = 'display_data';\n",
              "          await google.colab.output.renderOutput(dataTable, element);\n",
              "          const docLink = document.createElement('div');\n",
              "          docLink.innerHTML = docLinkHtml;\n",
              "          element.appendChild(docLink);\n",
              "        }\n",
              "      </script>\n",
              "    </div>\n",
              "  </div>\n",
              "  "
            ]
          },
          "metadata": {},
          "execution_count": 141
        }
      ]
    },
    {
      "cell_type": "code",
      "source": [
        "df[(df['Variant']=='Control')&(df['Revenue']<100)].describe() #checking the stats for \"Control\" excluding outliers"
      ],
      "metadata": {
        "colab": {
          "base_uri": "https://localhost:8080/",
          "height": 300
        },
        "id": "iFOtiuNUzGUu",
        "outputId": "4aea5620-03bc-4ced-8e32-9cff78c7a58d"
      },
      "execution_count": null,
      "outputs": [
        {
          "output_type": "execute_result",
          "data": {
            "text/plain": [
              "             user_id       Revenue\n",
              "count   10000.000000  10000.000000\n",
              "mean   551138.775100     52.209803\n",
              "std    259778.404479      9.286563\n",
              "min    100016.000000     20.220000\n",
              "25%    325861.250000     44.900000\n",
              "50%    553434.500000     50.270000\n",
              "75%    776391.500000     57.630000\n",
              "max    999949.000000     98.770000"
            ],
            "text/html": [
              "\n",
              "  <div id=\"df-3e8cc814-2845-4e5b-8c29-3cd6f443b48b\">\n",
              "    <div class=\"colab-df-container\">\n",
              "      <div>\n",
              "<style scoped>\n",
              "    .dataframe tbody tr th:only-of-type {\n",
              "        vertical-align: middle;\n",
              "    }\n",
              "\n",
              "    .dataframe tbody tr th {\n",
              "        vertical-align: top;\n",
              "    }\n",
              "\n",
              "    .dataframe thead th {\n",
              "        text-align: right;\n",
              "    }\n",
              "</style>\n",
              "<table border=\"1\" class=\"dataframe\">\n",
              "  <thead>\n",
              "    <tr style=\"text-align: right;\">\n",
              "      <th></th>\n",
              "      <th>user_id</th>\n",
              "      <th>Revenue</th>\n",
              "    </tr>\n",
              "  </thead>\n",
              "  <tbody>\n",
              "    <tr>\n",
              "      <th>count</th>\n",
              "      <td>10000.000000</td>\n",
              "      <td>10000.000000</td>\n",
              "    </tr>\n",
              "    <tr>\n",
              "      <th>mean</th>\n",
              "      <td>551138.775100</td>\n",
              "      <td>52.209803</td>\n",
              "    </tr>\n",
              "    <tr>\n",
              "      <th>std</th>\n",
              "      <td>259778.404479</td>\n",
              "      <td>9.286563</td>\n",
              "    </tr>\n",
              "    <tr>\n",
              "      <th>min</th>\n",
              "      <td>100016.000000</td>\n",
              "      <td>20.220000</td>\n",
              "    </tr>\n",
              "    <tr>\n",
              "      <th>25%</th>\n",
              "      <td>325861.250000</td>\n",
              "      <td>44.900000</td>\n",
              "    </tr>\n",
              "    <tr>\n",
              "      <th>50%</th>\n",
              "      <td>553434.500000</td>\n",
              "      <td>50.270000</td>\n",
              "    </tr>\n",
              "    <tr>\n",
              "      <th>75%</th>\n",
              "      <td>776391.500000</td>\n",
              "      <td>57.630000</td>\n",
              "    </tr>\n",
              "    <tr>\n",
              "      <th>max</th>\n",
              "      <td>999949.000000</td>\n",
              "      <td>98.770000</td>\n",
              "    </tr>\n",
              "  </tbody>\n",
              "</table>\n",
              "</div>\n",
              "      <button class=\"colab-df-convert\" onclick=\"convertToInteractive('df-3e8cc814-2845-4e5b-8c29-3cd6f443b48b')\"\n",
              "              title=\"Convert this dataframe to an interactive table.\"\n",
              "              style=\"display:none;\">\n",
              "        \n",
              "  <svg xmlns=\"http://www.w3.org/2000/svg\" height=\"24px\"viewBox=\"0 0 24 24\"\n",
              "       width=\"24px\">\n",
              "    <path d=\"M0 0h24v24H0V0z\" fill=\"none\"/>\n",
              "    <path d=\"M18.56 5.44l.94 2.06.94-2.06 2.06-.94-2.06-.94-.94-2.06-.94 2.06-2.06.94zm-11 1L8.5 8.5l.94-2.06 2.06-.94-2.06-.94L8.5 2.5l-.94 2.06-2.06.94zm10 10l.94 2.06.94-2.06 2.06-.94-2.06-.94-.94-2.06-.94 2.06-2.06.94z\"/><path d=\"M17.41 7.96l-1.37-1.37c-.4-.4-.92-.59-1.43-.59-.52 0-1.04.2-1.43.59L10.3 9.45l-7.72 7.72c-.78.78-.78 2.05 0 2.83L4 21.41c.39.39.9.59 1.41.59.51 0 1.02-.2 1.41-.59l7.78-7.78 2.81-2.81c.8-.78.8-2.07 0-2.86zM5.41 20L4 18.59l7.72-7.72 1.47 1.35L5.41 20z\"/>\n",
              "  </svg>\n",
              "      </button>\n",
              "      \n",
              "  <style>\n",
              "    .colab-df-container {\n",
              "      display:flex;\n",
              "      flex-wrap:wrap;\n",
              "      gap: 12px;\n",
              "    }\n",
              "\n",
              "    .colab-df-convert {\n",
              "      background-color: #E8F0FE;\n",
              "      border: none;\n",
              "      border-radius: 50%;\n",
              "      cursor: pointer;\n",
              "      display: none;\n",
              "      fill: #1967D2;\n",
              "      height: 32px;\n",
              "      padding: 0 0 0 0;\n",
              "      width: 32px;\n",
              "    }\n",
              "\n",
              "    .colab-df-convert:hover {\n",
              "      background-color: #E2EBFA;\n",
              "      box-shadow: 0px 1px 2px rgba(60, 64, 67, 0.3), 0px 1px 3px 1px rgba(60, 64, 67, 0.15);\n",
              "      fill: #174EA6;\n",
              "    }\n",
              "\n",
              "    [theme=dark] .colab-df-convert {\n",
              "      background-color: #3B4455;\n",
              "      fill: #D2E3FC;\n",
              "    }\n",
              "\n",
              "    [theme=dark] .colab-df-convert:hover {\n",
              "      background-color: #434B5C;\n",
              "      box-shadow: 0px 1px 3px 1px rgba(0, 0, 0, 0.15);\n",
              "      filter: drop-shadow(0px 1px 2px rgba(0, 0, 0, 0.3));\n",
              "      fill: #FFFFFF;\n",
              "    }\n",
              "  </style>\n",
              "\n",
              "      <script>\n",
              "        const buttonEl =\n",
              "          document.querySelector('#df-3e8cc814-2845-4e5b-8c29-3cd6f443b48b button.colab-df-convert');\n",
              "        buttonEl.style.display =\n",
              "          google.colab.kernel.accessAllowed ? 'block' : 'none';\n",
              "\n",
              "        async function convertToInteractive(key) {\n",
              "          const element = document.querySelector('#df-3e8cc814-2845-4e5b-8c29-3cd6f443b48b');\n",
              "          const dataTable =\n",
              "            await google.colab.kernel.invokeFunction('convertToInteractive',\n",
              "                                                     [key], {});\n",
              "          if (!dataTable) return;\n",
              "\n",
              "          const docLinkHtml = 'Like what you see? Visit the ' +\n",
              "            '<a target=\"_blank\" href=https://colab.research.google.com/notebooks/data_table.ipynb>data table notebook</a>'\n",
              "            + ' to learn more about interactive tables.';\n",
              "          element.innerHTML = '';\n",
              "          dataTable['output_type'] = 'display_data';\n",
              "          await google.colab.output.renderOutput(dataTable, element);\n",
              "          const docLink = document.createElement('div');\n",
              "          docLink.innerHTML = docLinkHtml;\n",
              "          element.appendChild(docLink);\n",
              "        }\n",
              "      </script>\n",
              "    </div>\n",
              "  </div>\n",
              "  "
            ]
          },
          "metadata": {},
          "execution_count": 142
        }
      ]
    },
    {
      "cell_type": "markdown",
      "source": [
        "Since the two groups are of a different size - The \"Test\" group has 9547 datapoints and the \"Control\" group has a value of 10000 datapoints, it is best to use the mean in order to determine which group would bring greater revenue. Simply doing the sum of both wouldn't be fair. The mean is the sum of all values in the dataset divided by the number of all points in the dataset. The mean for the \"Test\" group with a value of 52.4 is a little bit larger than the mean of the \"Control\" group with a value of 52.2. The \"50%\" of the table shows the middle 50% of the data which is less prone to be outlier data it is known as Interquartile range (IQR). It can be observed that again the \"Test\" also group has a greater value of 51.37 compared to the \"Control\" group which is 50.27. However due to the small difference between the two, additional statistical methods have to be used before any conclusions are made."
      ],
      "metadata": {
        "id": "_u5u_H90vAYr"
      }
    },
    {
      "cell_type": "markdown",
      "source": [
        "# T-test\n",
        "A t-test is an univariate test that tests for a significant difference between the mean of two unrelated groups. I am chosing to do it in order to find out whether the \"Control\" group or \"Test\" group would bring a higher revenue.\n",
        "\"Null hypothesis\" $(H_{0}): u1 = u2$, which translates to the mean of sample 1 is equal to the mean of sample 2.\n",
        "The \"Alternative hypothesis\" $(H_{A}): u1 ≠ u2$, which translates to the mean of sample 1 is not equal to the mean of sample 2. A null hypothesis can only be rejected, not proven. A p-value that is less than or equal to 0.05 often indicates whether there is evidence against the null hypothesis."
      ],
      "metadata": {
        "id": "VOSzu1ils8m9"
      }
    },
    {
      "cell_type": "markdown",
      "source": [
        "One of the steps we need to do before we can do the t-test is to check if our distributions are normal:"
      ],
      "metadata": {
        "id": "CMAYsh8Avn5q"
      }
    },
    {
      "cell_type": "code",
      "source": [
        "print(df_c_o['Revenue'].skew()) #Checking the skewness of the \"Control\" group excluding the outliers"
      ],
      "metadata": {
        "id": "kNdm7NTFPz_Y",
        "colab": {
          "base_uri": "https://localhost:8080/"
        },
        "outputId": "f1fdcff7-fb5f-4385-ad97-3041cbd4ed53"
      },
      "execution_count": 146,
      "outputs": [
        {
          "output_type": "stream",
          "name": "stdout",
          "text": [
            "0.9759283329278715\n"
          ]
        }
      ]
    },
    {
      "cell_type": "code",
      "source": [
        "print(df_t['Revenue'].skew()) #checking the \"skewness\" of the \"Test\" group data"
      ],
      "metadata": {
        "colab": {
          "base_uri": "https://localhost:8080/"
        },
        "id": "WED3-RzFYw-9",
        "outputId": "8925177a-6cc1-48c7-f352-8c9c386df8a9"
      },
      "execution_count": 147,
      "outputs": [
        {
          "output_type": "stream",
          "name": "stdout",
          "text": [
            "0.7654616177032911\n"
          ]
        }
      ]
    },
    {
      "cell_type": "markdown",
      "source": [
        "Both datasets are moderately skewed with the \"Control\" group dataset being more skewed than the \"Test\", but still the skewness is not greater than 1."
      ],
      "metadata": {
        "id": "OyB6kxpfZDXK"
      }
    },
    {
      "cell_type": "markdown",
      "source": [
        "Let’s see how it looks on a q-q plot, it’s easier to get a sense of normality visualizing the data as q-q plot."
      ],
      "metadata": {
        "id": "_AWsv43mwf_e"
      }
    },
    {
      "cell_type": "code",
      "source": [
        "stats.probplot(df_c_o['Revenue'], dist=\"norm\", plot= plt)\n",
        "plt.title(\"Control group <100 Q-Q plot\")\n",
        "plt.savefig(\"Control group <100\")"
      ],
      "metadata": {
        "colab": {
          "base_uri": "https://localhost:8080/",
          "height": 301
        },
        "id": "N5SzFildpDxw",
        "outputId": "bfe4ddfd-3277-4993-9919-dc3a6b2afdcd"
      },
      "execution_count": 179,
      "outputs": [
        {
          "output_type": "display_data",
          "data": {
            "text/plain": [
              "<Figure size 432x288 with 1 Axes>"
            ],
            "image/png": "[encoded data removed]"
          },
          "metadata": {}
        }
      ]
    },
    {
      "cell_type": "code",
      "source": [
        "stats.probplot(df_t['Revenue'], dist=\"norm\", plot= plt)\n",
        "plt.title(\"Test group Q-Q plot\")\n",
        "plt.savefig(\"Test group\")"
      ],
      "metadata": {
        "colab": {
          "base_uri": "https://localhost:8080/",
          "height": 301
        },
        "id": "ssE4iRLYqDA7",
        "outputId": "4c91e155-facd-487b-bae1-1c89ec416a8b"
      },
      "execution_count": 180,
      "outputs": [
        {
          "output_type": "display_data",
          "data": {
            "text/plain": [
              "<Figure size 432x288 with 1 Axes>"
            ],
            "image/png": "[encoded data removed]"
          },
          "metadata": {}
        }
      ]
    },
    {
      "cell_type": "markdown",
      "source": [
        "Both \"Test\" and \"Control\" groups have a close to normal distribution. There is some deviation from normality on both, but it does not appear to be a large violation. Therefore, a t-test can be performed:\n"
      ],
      "metadata": {
        "id": "JPe-TKfgxDTz"
      }
    },
    {
      "cell_type": "code",
      "source": [
        "stats.ttest_ind(df_c_o['Revenue'], df_t['Revenue'])"
      ],
      "metadata": {
        "colab": {
          "base_uri": "https://localhost:8080/"
        },
        "id": "XqrMGLOKqoZR",
        "outputId": "23bbb851-cae0-47a2-84f0-18330452a051"
      },
      "execution_count": 173,
      "outputs": [
        {
          "output_type": "execute_result",
          "data": {
            "text/plain": [
              "Ttest_indResult(statistic=-1.6754719973240766, pvalue=0.09385765675288062)"
            ]
          },
          "metadata": {},
          "execution_count": 173
        }
      ]
    },
    {
      "cell_type": "markdown",
      "source": [
        "The p-value=0.09>0.05 therefore the null hypothesis can't be rejected. "
      ],
      "metadata": {
        "id": "oJjuTfqa0q1O"
      }
    },
    {
      "cell_type": "markdown",
      "source": [
        ""
      ],
      "metadata": {
        "id": "dUP5zPwE1gO4"
      }
    },
    {
      "cell_type": "markdown",
      "source": [
        "# Conclusion\n",
        "The two datasets from the \"Test\" and \"Control\" group show that they have almost the same mean (after the outliers have been removed), and a group which will bring more revenue can't be defined. This was shown with the \"describe\" method first - the mean of the \"Control\" group is 52.2 and the mean of the \"Test\" group is 52.4. The fact that the two means are too close to each other was also proven with the t-test which gave a p-value of 0.09, which is larger than 0.05. Therefore, the null hypothesis can't be rejected and there is no statistical significance between the two groups. The small difference between the two means is explainable by chance alone."
      ],
      "metadata": {
        "id": "a7sR2rXS1guI"
      }
    }
  ]
}